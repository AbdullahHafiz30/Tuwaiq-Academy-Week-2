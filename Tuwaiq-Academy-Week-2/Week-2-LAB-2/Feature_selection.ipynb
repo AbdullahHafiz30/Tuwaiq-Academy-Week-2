{
  "cells": [
    {
      "cell_type": "markdown",
      "metadata": {
        "id": "8ZQcH__VgBOQ"
      },
      "source": [
        "# Removing features with low variance"
      ]
    },
    {
      "cell_type": "markdown",
      "metadata": {
        "id": "Qb82Xh7_hg5L"
      },
      "source": [
        "\n",
        "## filter methods\n"
      ]
    },
    {
      "cell_type": "markdown",
      "metadata": {
        "id": "xnR7JwDDhdwJ"
      },
      "source": [
        "'''\n",
        "VarianceThreshold is a simple baseline approach to feature selection.\n",
        "It removes all features whose variance doesn’t meet some threshold.\n",
        "By default, it removes all zero-variance features, i.e.\n",
        "features that have the same value in all samples.\n",
        "'''\n",
        "\n",
        "'''We can also go in the reverse direction (backward SFS),\n",
        "i.e. start with all the features and greedily choose\n",
        "features to remove one by one. We illustrate both approaches here.'''"
      ]
    },
    {
      "cell_type": "code",
      "execution_count": 16,
      "metadata": {
        "colab": {
          "base_uri": "https://localhost:8080/"
        },
        "id": "axfrI4clUM_Z",
        "outputId": "bc61868f-2ade-4c88-fab2-1ffc8cbcd207"
      },
      "outputs": [
        {
          "data": {
            "text/plain": [
              "0.15999999999999998"
            ]
          },
          "execution_count": 16,
          "metadata": {},
          "output_type": "execute_result"
        }
      ],
      "source": [
        ".8 * (1 - .8)"
      ]
    },
    {
      "cell_type": "code",
      "execution_count": 17,
      "metadata": {
        "colab": {
          "base_uri": "https://localhost:8080/"
        },
        "id": "9PzduQevUSXf",
        "outputId": "fb08aa71-b6b0-4266-c5e6-3e6f0c18d024"
      },
      "outputs": [
        {
          "data": {
            "text/plain": [
              "0.15999999999999998"
            ]
          },
          "execution_count": 17,
          "metadata": {},
          "output_type": "execute_result"
        }
      ],
      "source": [
        ".8 * (1 - .8)"
      ]
    },
    {
      "cell_type": "code",
      "execution_count": 18,
      "metadata": {
        "colab": {
          "base_uri": "https://localhost:8080/"
        },
        "id": "kfJZyjZleUDQ",
        "outputId": "1b8746bd-cbce-47fd-e9ef-4d1a625e5371"
      },
      "outputs": [
        {
          "data": {
            "text/plain": [
              "array([False,  True,  True])"
            ]
          },
          "execution_count": 18,
          "metadata": {},
          "output_type": "execute_result"
        }
      ],
      "source": [
        "from sklearn.feature_selection import VarianceThreshold\n",
        "X = [[0, 0, 1],\n",
        "     [0, 1, 0],\n",
        "     [1, 0, 0],\n",
        "     [0, 1, 1],\n",
        "     [0, 1, 0],\n",
        "     [0, 1, 1]]\n",
        "sel = VarianceThreshold(threshold=(.8 * (1 - .8)))\n",
        "sel.fit_transform(X)\n",
        "\n",
        "\n",
        "sel.get_support()"
      ]
    },
    {
      "cell_type": "markdown",
      "metadata": {
        "id": "5wTokI1-g-3k"
      },
      "source": [
        "'''\n",
        "Selecting features with Sequential Feature Selection:\n",
        "Another way of selecting features is to use SequentialFeatureSelector (SFS).\n",
        "SFS is a greedy procedure where, at each iteration,\n",
        "we choose the best new feature to add to our selected features based a cross-validation score.\n",
        "\n",
        "  That is, we start with 0 features and choose the best single feature with the highest score.\n",
        "The procedure is repeated until we reach the desired number of selected features\n",
        "'''\n"
      ]
    },
    {
      "cell_type": "code",
      "execution_count": 19,
      "metadata": {
        "colab": {
          "base_uri": "https://localhost:8080/"
        },
        "id": "h4oIyo__pEsH",
        "outputId": "d7893dc6-9147-476b-d1a9-6a3a280087a5"
      },
      "outputs": [
        {
          "name": "stdout",
          "output_type": "stream",
          "text": [
            ".. _diabetes_dataset:\n",
            "\n",
            "Diabetes dataset\n",
            "----------------\n",
            "\n",
            "Ten baseline variables, age, sex, body mass index, average blood\n",
            "pressure, and six blood serum measurements were obtained for each of n =\n",
            "442 diabetes patients, as well as the response of interest, a\n",
            "quantitative measure of disease progression one year after baseline.\n",
            "\n",
            "**Data Set Characteristics:**\n",
            "\n",
            ":Number of Instances: 442\n",
            "\n",
            ":Number of Attributes: First 10 columns are numeric predictive values\n",
            "\n",
            ":Target: Column 11 is a quantitative measure of disease progression one year after baseline\n",
            "\n",
            ":Attribute Information:\n",
            "    - age     age in years\n",
            "    - sex\n",
            "    - bmi     body mass index\n",
            "    - bp      average blood pressure\n",
            "    - s1      tc, total serum cholesterol\n",
            "    - s2      ldl, low-density lipoproteins\n",
            "    - s3      hdl, high-density lipoproteins\n",
            "    - s4      tch, total cholesterol / HDL\n",
            "    - s5      ltg, possibly log of serum triglycerides level\n",
            "    - s6      glu, blood sugar level\n",
            "\n",
            "Note: Each of these 10 feature variables have been mean centered and scaled by the standard deviation times the square root of `n_samples` (i.e. the sum of squares of each column totals 1).\n",
            "\n",
            "Source URL:\n",
            "https://www4.stat.ncsu.edu/~boos/var.select/diabetes.html\n",
            "\n",
            "For more information see:\n",
            "Bradley Efron, Trevor Hastie, Iain Johnstone and Robert Tibshirani (2004) \"Least Angle Regression,\" Annals of Statistics (with discussion), 407-499.\n",
            "(https://web.stanford.edu/~hastie/Papers/LARS/LeastAngle_2002.pdf)\n",
            "\n"
          ]
        }
      ],
      "source": [
        "from sklearn.datasets import load_diabetes\n",
        "\n",
        "diabetes = load_diabetes()\n",
        "X, y = diabetes.data, diabetes.target\n",
        "print(diabetes.DESCR)"
      ]
    },
    {
      "cell_type": "markdown",
      "metadata": {
        "id": "vA96D-iZrBan"
      },
      "source": [
        "# Feature importance from coefficients\n",
        "To get an idea of the importance of the features, we are going to use the RidgeCV estimator. The features with the highest absolute coef_ value are considered the most important. We can observe the coefficients directly without needing to scale them (or scale the data) because from the description above, we know that the features were already standardized"
      ]
    },
    {
      "cell_type": "code",
      "execution_count": 20,
      "metadata": {
        "colab": {
          "base_uri": "https://localhost:8080/",
          "height": 452
        },
        "id": "8V3iWDoTpNyG",
        "outputId": "99a7d772-9064-4cc5-8002-63e6f7fa9244"
      },
      "outputs": [
        {
          "data": {
            "image/png": "[encoded data removed]",
            "text/plain": [
              "<Figure size 640x480 with 1 Axes>"
            ]
          },
          "metadata": {},
          "output_type": "display_data"
        }
      ],
      "source": [
        "import matplotlib.pyplot as plt\n",
        "import numpy as np\n",
        "\n",
        "from sklearn.linear_model import RidgeCV\n",
        "\n",
        "ridge = RidgeCV(alphas=0.1).fit(X, y)\n",
        "importance = np.abs(ridge.coef_)\n",
        "feature_names = np.array(diabetes.feature_names)\n",
        "plt.bar(height=importance, x=feature_names)\n",
        "plt.title(\"Feature importances via coefficients\")\n",
        "plt.show()"
      ]
    },
    {
      "cell_type": "markdown",
      "metadata": {
        "id": "xXAksT8rrJNa"
      },
      "source": [
        "# Selecting features based on importance\n",
        "Now we want to select the two features which are the most important according to the coefficients"
      ]
    },
    {
      "cell_type": "code",
      "execution_count": 21,
      "metadata": {
        "colab": {
          "base_uri": "https://localhost:8080/"
        },
        "id": "eSj6D_6HnG9v",
        "outputId": "02b87458-91ce-4a30-b812-71f0b16c9227"
      },
      "outputs": [
        {
          "name": "stdout",
          "output_type": "stream",
          "text": [
            "Features selected by SelectFromModel: ['bmi' 's5']\n",
            "Done in 0.000s\n"
          ]
        }
      ],
      "source": [
        "from time import time\n",
        "\n",
        "from sklearn.feature_selection import SelectFromModel\n",
        "\n",
        "threshold = np.sort(importance)[-3] + 0.01\n",
        "\n",
        "tic = time()\n",
        "sfm = SelectFromModel(ridge, threshold=threshold).fit(X, y)\n",
        "toc = time()\n",
        "print(f\"Features selected by SelectFromModel: {feature_names[sfm.get_support()]}\")\n",
        "print(f\"Done in {toc - tic:.3f}s\")"
      ]
    },
    {
      "cell_type": "markdown",
      "metadata": {
        "id": "4wu_cTS7rUej"
      },
      "source": [
        "# Selecting features with Sequential Feature Selection\n",
        "\n",
        "\n",
        "*   Another way of selecting features is to use\n",
        "SequentialFeatureSelector (SFS). SFS is a greedy procedure where, at each iteration, we choose the best new feature to add to our selected features based a cross-validation score. That is, we start with 0 features and choose the best single feature with the highest score. The procedure is repeated until we reach the desired number of selected features.\n",
        "\n",
        "\n",
        "* We can also go in the reverse direction (backward SFS), i.e. start with all the features and greedily choose features to remove one by one. We illustrate both approaches here."
      ]
    },
    {
      "cell_type": "code",
      "execution_count": null,
      "metadata": {
        "colab": {
          "base_uri": "https://localhost:8080/"
        },
        "id": "uFKtb_wOoLnI",
        "outputId": "6676825f-1bfa-4ad2-bbfd-0cdacea250d3"
      },
      "outputs": [
        {
          "name": "stdout",
          "output_type": "stream",
          "text": [
            "Features selected by forward sequential selection: ['bmi' 's5']\n",
            "Done in 0.248s\n",
            "Features selected by backward sequential selection: ['bmi' 's5']\n",
            "Done in 0.690s\n"
          ]
        }
      ],
      "source": [
        "from sklearn.feature_selection import SequentialFeatureSelector\n",
        "\n",
        "tic_fwd = time()\n",
        "sfs_forward = SequentialFeatureSelector(ridge, n_features_to_select=2, direction=\"forward\").fit(X, y)\n",
        "toc_fwd = time()\n",
        "\n",
        "tic_bwd = time()\n",
        "sfs_backward = SequentialFeatureSelector(\n",
        "    ridge, n_features_to_select=2, direction=\"backward\"\n",
        ").fit(X, y)\n",
        "toc_bwd = time()\n",
        "\n",
        "print(\n",
        "    \"Features selected by forward sequential selection: \"\n",
        "    f\"{feature_names[sfs_forward.get_support()]}\"\n",
        ")\n",
        "print(f\"Done in {toc_fwd - tic_fwd:.3f}s\")\n",
        "print(\n",
        "    \"Features selected by backward sequential selection: \"\n",
        "    f\"{feature_names[sfs_backward.get_support()]}\"\n",
        ")\n",
        "print(f\"Done in {toc_bwd - tic_bwd:.3f}s\")"
      ]
    },
    {
      "cell_type": "code",
      "execution_count": null,
      "metadata": {
        "id": "cObmTOlSoMPc"
      },
      "outputs": [],
      "source": []
    }
  ],
  "metadata": {
    "colab": {
      "provenance": []
    },
    "kernelspec": {
      "display_name": "Python 3",
      "name": "python3"
    },
    "language_info": {
      "codemirror_mode": {
        "name": "ipython",
        "version": 3
      },
      "file_extension": ".py",
      "mimetype": "text/x-python",
      "name": "python",
      "nbconvert_exporter": "python",
      "pygments_lexer": "ipython3",
      "version": "3.11.9"
    }
  },
  "nbformat": 4,
  "nbformat_minor": 0
}
